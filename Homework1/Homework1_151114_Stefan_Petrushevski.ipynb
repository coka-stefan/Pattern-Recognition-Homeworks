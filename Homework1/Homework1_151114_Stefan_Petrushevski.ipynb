{
 "cells": [
  {
   "cell_type": "markdown",
   "metadata": {},
   "source": [
    "## Методи за прочистување на текст\n",
    "1. Сите букви се сведуваат на мали букви\n",
    "2. Се отстрануваат сите карактери што не се буква или празно место\n",
    "3. Се отстрануваат сите евентуални двојни празни места\n",
    "4. Се отстрануваат сите небитни зборови"
   ]
  },
  {
   "cell_type": "code",
   "execution_count": 8,
   "metadata": {},
   "outputs": [],
   "source": [
    "import re\n",
    "\n",
    "stopwords = [\n",
    "    \"a\", \"about\", \"above\", \"after\", \"again\", \"against\", \"all\", \"am\", \"an\",\n",
    "    \"and\", \"any\", \"are\", \"as\", \"at\", \"be\", \"because\", \"been\", \"before\",\n",
    "    \"being\", \"below\", \"between\", \"both\", \"but\", \"by\", \"could\", \"did\", \"do\",\n",
    "    \"does\", \"doing\", \"down\", \"during\", \"each\", \"few\", \"for\", \"from\", \"further\",\n",
    "    \"had\", \"has\", \"have\", \"having\", \"he\", \"he'd\", \"he'll\", \"he's\", \"her\",\n",
    "    \"here\", \"here's\", \"hers\", \"herself\", \"him\", \"himself\", \"his\", \"how\",\n",
    "    \"how's\", \"i\", \"i'd\", \"i'll\", \"i'm\", \"i've\", \"if\", \"in\", \"into\", \"is\", \"it\",\n",
    "    \"it's\", \"its\", \"itself\", \"let's\", \"me\", \"more\", \"most\", \"my\", \"myself\",\n",
    "    \"nor\", \"of\", \"on\", \"once\", \"only\", \"or\", \"other\", \"ought\", \"our\", \"ours\",\n",
    "    \"ourselves\", \"out\", \"over\", \"own\", \"same\", \"she\", \"she'd\", \"she'll\",\n",
    "    \"she's\", \"should\", \"so\", \"some\", \"such\", \"than\", \"that\", \"that's\", \"the\",\n",
    "    \"their\", \"theirs\", \"them\", \"themselves\", \"then\", \"there\", \"there's\",\n",
    "    \"these\", \"they\", \"they'd\", \"they'll\", \"they're\", \"they've\", \"this\",\n",
    "    \"those\", \"through\", \"to\", \"too\", \"under\", \"until\", \"up\", \"very\", \"was\",\n",
    "    \"we\", \"we'd\", \"we'll\", \"we're\", \"we've\", \"were\", \"what\", \"what's\", \"when\",\n",
    "    \"when's\", \"where\", \"where's\", \"which\", \"while\", \"who\", \"who's\", \"whom\",\n",
    "    \"why\", \"why's\", \"with\", \"would\", \"you\", \"you'd\", \"you'll\", \"you're\",\n",
    "    \"you've\", \"your\", \"yours\", \"yourself\", \"yourselves\"\n",
    "]\n",
    "\n",
    "\n",
    "def text_preproces(text):\n",
    "    text = text.lower()  # to lowercase\n",
    "    text = re.sub('[^a-zA-Z^ ]', '', text)  # keep text only\n",
    "    text = re.sub(' +', ' ', text)  # remove extra spaces\n",
    "    text = [word for word in text.split()\n",
    "            if word not in stopwords]  # filter out stopwords\n",
    "    #     text = [word for word in text if len(word) >= 3]\n",
    "    return text\n",
    "\n",
    "\n",
    "def tokenize(text):\n",
    "    words = []\n",
    "    words.extend(text)\n",
    "    words = sorted(list(set(words)))\n",
    "    return words"
   ]
  },
  {
   "cell_type": "markdown",
   "metadata": {},
   "source": [
    "## Вчитување на фејлот и обработка\n",
    "1. Се читаат сите линии од фајлот во листа\n",
    "2. На секоја линија се прочистува текстот\n",
    "3. Се додаваат нови параметри за должина на текстот и број на зборови"
   ]
  },
  {
   "cell_type": "code",
   "execution_count": 9,
   "metadata": {},
   "outputs": [],
   "source": [
    "import csv\n",
    "\n",
    "\n",
    "def loadCsv(filename):\n",
    "    lines = csv.reader(open(filename, \"r\"))\n",
    "    lines = list(lines)\n",
    "    dataset = []\n",
    "    for line in lines:\n",
    "        row = line[0].split('\\t')\n",
    "        row.append(len(row[1]))  # text length\n",
    "        row[1] = text_preproces(row[1])  # clean text\n",
    "        row.append(len(row[1]))  # number of words\n",
    "        row[1] = tokenize(row[1])  # tokenize words\n",
    "        dataset.append(row)\n",
    "    return dataset\n",
    "\n",
    "\n",
    "dataset = loadCsv('SMSSpamTrain.txt')"
   ]
  },
  {
   "cell_type": "markdown",
   "metadata": {},
   "source": [
    "## Метод за тренирање на класификаторот\n",
    "1. Се двои податочното множество во речник со двете класи\n",
    "2. Се пресметува појавување на секој збор во соодветната класа \n",
    "3. Се пресметува вкупниот број на уникатни зборови во класите"
   ]
  },
  {
   "cell_type": "code",
   "execution_count": 11,
   "metadata": {},
   "outputs": [
    {
     "name": "stdout",
     "output_type": "stream",
     "text": [
      "1639 5631\n"
     ]
    }
   ],
   "source": [
    "from collections import defaultdict\n",
    "\n",
    "\n",
    "def train(dataset):\n",
    "    separated = defaultdict(list)\n",
    "    for row in dataset:\n",
    "        separated[row[0]].append(row[1:])\n",
    "\n",
    "    spam = defaultdict(lambda: 1)\n",
    "    ham = defaultdict(lambda: 1)\n",
    "\n",
    "    spam_lengths = defaultdict(lambda: 1)\n",
    "    ham_lengths = defaultdict(lambda: 1)\n",
    "    spam_word_lengths = defaultdict(lambda: 1)\n",
    "    ham_word_lengths = defaultdict(lambda: 1)\n",
    "\n",
    "    for sentence in separated['spam']:\n",
    "        spam_lengths[sentence[1]] += 1\n",
    "        spam_word_lengths[sentence[2]] += 1\n",
    "        for word in sentence[0]:\n",
    "            spam[word] += 1\n",
    "    for sentence in separated['ham']:\n",
    "        ham_lengths[sentence[1]] += 1\n",
    "        ham_word_lengths[sentence[2]] += 1\n",
    "        for word in sentence[0]:\n",
    "            ham[word] += 1\n",
    "\n",
    "    totalSpamWords = len(spam.keys())\n",
    "    totalHamWords = len(ham.keys())\n",
    "    print(totalSpamWords, totalHamWords)\n",
    "\n",
    "    return spam, ham, totalSpamWords, totalHamWords, spam_lengths, ham_lengths\n",
    "\n",
    "\n",
    "spam, ham, spamWords, hamWords, spam_lengths, ham_lengths = train(dataset)"
   ]
  },
  {
   "cell_type": "markdown",
   "metadata": {},
   "source": [
    "## Метод за класифицирање на пораките\n",
    "1. Се пресметува веројатноста зборот да е спам според формулата $$P(S|W) = \\frac{P(W|S) \\cdot P(S)}{P(W|S) \\cdot P(S) + P(W|H) \\cdot P(H)}$$\n",
    "2. На истиот начин се пресметува веројатноста зборот да не е спам\n",
    "3. Се пресметува вкупната веројатност пораката да е спам според формулата $$\\eta = \\sum_{1}^{n}[\\ln(1-p_i) - \\ln(p_i)]$$\n",
    "$$p = \\frac{1}{1+e^\\eta}$$\n",
    "4. Се пресметува вкупната веројатност пораката да не е спам според истата формула"
   ]
  },
  {
   "cell_type": "code",
   "execution_count": 12,
   "metadata": {},
   "outputs": [],
   "source": [
    "import math\n",
    "\n",
    "\n",
    "def classify(text, spam, ham, spamWords, hamWords, spam_lengths, ham_lengths):\n",
    "    line = text[1]\n",
    "    total = spamWords + hamWords\n",
    "\n",
    "    probs_spam = []\n",
    "    probs_ham = []\n",
    "    for word in line:\n",
    "        if (len(word) < 1):\n",
    "            continue\n",
    "\n",
    "        prob_word_spam = spam[word] / total\n",
    "        prob_word_ham = ham[word] / total\n",
    "        #         prob_spam = spamWords / total\n",
    "        #         prob_ham = hamWords / total\n",
    "        prob_spam = 0.5\n",
    "        prob_ham = 0.5\n",
    "\n",
    "        prob_spam_word = \\\n",
    "            (prob_word_spam * prob_spam) / \\\n",
    "            (prob_word_spam * prob_spam + prob_word_ham * prob_ham)\n",
    "\n",
    "        prob_ham_word = \\\n",
    "            (prob_word_ham * prob_ham) /\\\n",
    "            (prob_word_spam * prob_spam + prob_word_ham * prob_ham)\n",
    "\n",
    "        probs_spam.append(prob_spam_word)\n",
    "\n",
    "        probs_ham.append(prob_ham_word)\n",
    "\n",
    "\n",
    "#     total_lengths = spam_lengths[text[2]] + ham_lengths[text[2]]\n",
    "#     probs_spam.append(spam_lengths[text[2]] / total_lengths)\n",
    "#     probs_ham.append(ham_lengths[text[2]] / total_lengths)\n",
    "\n",
    "#     from functools import reduce\n",
    "#     import operator\n",
    "\n",
    "#     print(probs_spam, probs_ham)\n",
    "\n",
    "#     negs_spam = [1 - i for i in probs_spam]\n",
    "#     prob_spam = reduce(operator.mul, probs_spam) / \\\n",
    "#         (reduce(operator.mul, probs_spam) + reduce(operator.mul, negs_spam))\n",
    "\n",
    "#     negs_ham = [1 - i for i in probs_ham]\n",
    "#     prob_ham = reduce(operator.mul, probs_ham) / \\\n",
    "#         (reduce(operator.mul, probs_ham) + reduce(operator.mul, negs_ham))\n",
    "\n",
    "    eta = sum([math.log(1 - x) - math.log(x) for x in probs_spam])\n",
    "    prob_spam = 1 / (1 + math.e**eta)\n",
    "\n",
    "    eta = sum([math.log(1 - x) - math.log(x) for x in probs_ham])\n",
    "    prob_ham = 1 / (1 + math.e**eta)\n",
    "\n",
    "    return prob_spam, prob_ham"
   ]
  },
  {
   "cell_type": "markdown",
   "metadata": {},
   "source": [
    "## Вчитување на тест множеството\n",
    "1. За секоја линија во тест множеството се пресметува класата како поголемата веројатност помеѓу двете пресметани"
   ]
  },
  {
   "cell_type": "code",
   "execution_count": 13,
   "metadata": {},
   "outputs": [],
   "source": [
    "test = loadCsv('SMSSpamTest.txt')\n",
    "results = []\n",
    "for line in test:\n",
    "    s, h = classify(line, spam, ham, spamWords, hamWords, spam_lengths,\n",
    "                    ham_lengths)\n",
    "    results.append('spam' if (s > h) else 'ham')"
   ]
  },
  {
   "cell_type": "markdown",
   "metadata": {},
   "source": [
    "## Прикажување на резултатите\n",
    "1. Се пресметува confusion matrix\n",
    "2. Се пресметува accuarcy score"
   ]
  },
  {
   "cell_type": "code",
   "execution_count": 14,
   "metadata": {},
   "outputs": [
    {
     "data": {
      "text/plain": [
       "0.9588900308324769"
      ]
     },
     "execution_count": 14,
     "metadata": {},
     "output_type": "execute_result"
    },
    {
     "data": {
      "image/png": "[encoded data removed]",
      "text/plain": [
       "<Figure size 432x288 with 1 Axes>"
      ]
     },
     "metadata": {},
     "output_type": "display_data"
    }
   ],
   "source": [
    "import seaborn as sns\n",
    "from sklearn.metrics import confusion_matrix\n",
    "import matplotlib.pyplot as plt\n",
    "import pandas as pd\n",
    "\n",
    "classes_test = [t[0] for t in test]\n",
    "\n",
    "cm = confusion_matrix(classes_test, results)\n",
    "cm = pd.DataFrame(\n",
    "    cm, index=['ham', 'spam'], columns=['predicted ham', 'predicted spam'])\n",
    "\n",
    "sns.heatmap(cm, annot=True, cbar=False, fmt='d', cmap=plt.cm.Blues)\n",
    "\n",
    "from sklearn.metrics import accuracy_score\n",
    "accuracy_score(classes_test, results)"
   ]
  },
  {
   "cell_type": "code",
   "execution_count": null,
   "metadata": {},
   "outputs": [],
   "source": []
  }
 ],
 "metadata": {
  "kernelspec": {
   "display_name": "Python 3",
   "language": "python",
   "name": "python3"
  },
  "language_info": {
   "codemirror_mode": {
    "name": "ipython",
    "version": 3
   },
   "file_extension": ".py",
   "mimetype": "text/x-python",
   "name": "python",
   "nbconvert_exporter": "python",
   "pygments_lexer": "ipython3",
   "version": "3.6.4"
  },
  "varInspector": {
   "cols": {
    "lenName": 16,
    "lenType": 16,
    "lenVar": 40
   },
   "kernels_config": {
    "python": {
     "delete_cmd_postfix": "",
     "delete_cmd_prefix": "del ",
     "library": "var_list.py",
     "varRefreshCmd": "print(var_dic_list())"
    },
    "r": {
     "delete_cmd_postfix": ") ",
     "delete_cmd_prefix": "rm(",
     "library": "var_list.r",
     "varRefreshCmd": "cat(var_dic_list()) "
    }
   },
   "position": {
    "height": "477px",
    "left": "1112.4px",
    "right": "20px",
    "top": "120px",
    "width": "350px"
   },
   "types_to_exclude": [
    "module",
    "function",
    "builtin_function_or_method",
    "instance",
    "_Feature"
   ],
   "window_display": false
  }
 },
 "nbformat": 4,
 "nbformat_minor": 2
}
